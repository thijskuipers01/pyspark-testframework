{
 "cells": [
  {
   "cell_type": "markdown",
   "metadata": {},
   "source": [
    "# Tutorial"
   ]
  },
  {
   "cell_type": "markdown",
   "metadata": {},
   "source": [
    "**Let's first create an example pyspark DataFrame**\n",
    "\n",
    "The data will contain the primary keys, street names and house numbers of some addresses."
   ]
  },
  {
   "cell_type": "code",
   "execution_count": 1,
   "metadata": {},
   "outputs": [],
   "source": [
    "from pyspark.sql import SparkSession\n",
    "from pyspark.sql.types import StructType, StructField, IntegerType, StringType\n",
    "from pyspark.sql import functions as F"
   ]
  },
  {
   "cell_type": "code",
   "execution_count": 2,
   "metadata": {},
   "outputs": [
    {
     "name": "stdout",
     "output_type": "stream",
     "text": [
      "+---+--------------------+------------+\n",
      "|id |street              |house_number|\n",
      "+---+--------------------+------------+\n",
      "|1  |Rochussenstraat     |27          |\n",
      "|2  |Coolsingel          |31          |\n",
      "|3  |%Witte de Withstraat|27          |\n",
      "|4  |Lijnbaan            |-3          |\n",
      "|5  |NULL                |13          |\n",
      "+---+--------------------+------------+\n",
      "\n"
     ]
    },
    {
     "name": "stderr",
     "output_type": "stream",
     "text": [
      "----------------------------------------\n",
      "Exception occurred during processing of request from ('127.0.0.1', 50351)\n",
      "Traceback (most recent call last):\n",
      "  File \"C:\\Program Files\\WindowsApps\\PythonSoftwareFoundation.Python.3.10_3.10.3056.0_x64__qbz5n2kfra8p0\\lib\\socketserver.py\", line 316, in _handle_request_noblock\n",
      "    self.process_request(request, client_address)\n",
      "  File \"C:\\Program Files\\WindowsApps\\PythonSoftwareFoundation.Python.3.10_3.10.3056.0_x64__qbz5n2kfra8p0\\lib\\socketserver.py\", line 347, in process_request\n",
      "    self.finish_request(request, client_address)\n",
      "  File \"C:\\Program Files\\WindowsApps\\PythonSoftwareFoundation.Python.3.10_3.10.3056.0_x64__qbz5n2kfra8p0\\lib\\socketserver.py\", line 360, in finish_request\n",
      "    self.RequestHandlerClass(request, client_address, self)\n",
      "  File \"C:\\Program Files\\WindowsApps\\PythonSoftwareFoundation.Python.3.10_3.10.3056.0_x64__qbz5n2kfra8p0\\lib\\socketserver.py\", line 747, in __init__\n",
      "    self.handle()\n",
      "  File \"c:\\Users\\thijs\\Git Repo's\\pyspark-testframework\\.venv\\lib\\site-packages\\pyspark\\accumulators.py\", line 295, in handle\n",
      "    poll(accum_updates)\n",
      "  File \"c:\\Users\\thijs\\Git Repo's\\pyspark-testframework\\.venv\\lib\\site-packages\\pyspark\\accumulators.py\", line 267, in poll\n",
      "    if self.rfile in r and func():\n",
      "  File \"c:\\Users\\thijs\\Git Repo's\\pyspark-testframework\\.venv\\lib\\site-packages\\pyspark\\accumulators.py\", line 271, in accum_updates\n",
      "    num_updates = read_int(self.rfile)\n",
      "  File \"c:\\Users\\thijs\\Git Repo's\\pyspark-testframework\\.venv\\lib\\site-packages\\pyspark\\serializers.py\", line 594, in read_int\n",
      "    length = stream.read(4)\n",
      "  File \"C:\\Program Files\\WindowsApps\\PythonSoftwareFoundation.Python.3.10_3.10.3056.0_x64__qbz5n2kfra8p0\\lib\\socket.py\", line 705, in readinto\n",
      "    return self._sock.recv_into(b)\n",
      "ConnectionResetError: [WinError 10054] An existing connection was forcibly closed by the remote host\n",
      "----------------------------------------\n"
     ]
    }
   ],
   "source": [
    "# Initialize Spark session\n",
    "spark = SparkSession.builder.appName(\"PySparkTestFrameworkTutorial\").getOrCreate()\n",
    "\n",
    "# Define the schema\n",
    "schema = StructType(\n",
    "    [\n",
    "        StructField(\"id\", IntegerType(), True),\n",
    "        StructField(\"street\", StringType(), True),\n",
    "        StructField(\"house_number\", IntegerType(), True),\n",
    "    ]\n",
    ")\n",
    "\n",
    "# Define the data\n",
    "data = [\n",
    "    (1, \"Rochussenstraat\", 27),\n",
    "    (2, \"Coolsingel\", 31),\n",
    "    (3, \"%Witte de Withstraat\", 27),\n",
    "    (4, \"Lijnbaan\", -3),\n",
    "    (5, None, 13),\n",
    "]\n",
    "\n",
    "df = spark.createDataFrame(data, schema)\n",
    "\n",
    "df.show(truncate=False)"
   ]
  },
  {
   "cell_type": "markdown",
   "metadata": {},
   "source": [
    "**Import and initialize the `DataFrameTester`**"
   ]
  },
  {
   "cell_type": "code",
   "execution_count": 3,
   "metadata": {},
   "outputs": [],
   "source": [
    "from testframework.dataquality import DataFrameTester"
   ]
  },
  {
   "cell_type": "code",
   "execution_count": 4,
   "metadata": {},
   "outputs": [],
   "source": [
    "df_tester = DataFrameTester(\n",
    "    df=df,\n",
    "    primary_key=\"id\",\n",
    "    spark=spark,\n",
    ")"
   ]
  },
  {
   "cell_type": "markdown",
   "metadata": {},
   "source": [
    "**Import configurable tests**"
   ]
  },
  {
   "cell_type": "code",
   "execution_count": 5,
   "metadata": {},
   "outputs": [],
   "source": [
    "from testframework.dataquality.tests import (\n",
    "    ValidNumericRange,\n",
    "    RegexTest,\n",
    "    ValidStringLength,\n",
    ")\n"
   ]
  },
  {
   "cell_type": "markdown",
   "metadata": {},
   "source": [
    "**Initialize the `RegexTest` to test for valid street names**"
   ]
  },
  {
   "cell_type": "code",
   "execution_count": 6,
   "metadata": {},
   "outputs": [],
   "source": [
    "valid_street_format = RegexTest(\n",
    "    name=\"ValidStreetFormat\",\n",
    "    pattern=r\"^[A-Z][a-zéèáàëï]*([ -][A-Z]?[a-zéèáàëï]*)*$\",\n",
    ")"
   ]
  },
  {
   "cell_type": "markdown",
   "metadata": {},
   "source": [
    "**Run `valid_street_format` on the _street_ column using the `.test()` method of `DataFrameTester`.**"
   ]
  },
  {
   "cell_type": "code",
   "execution_count": 7,
   "metadata": {},
   "outputs": [
    {
     "name": "stdout",
     "output_type": "stream",
     "text": [
      "+---+--------------------+-------------------------+\n",
      "|id |street              |street__ValidStreetFormat|\n",
      "+---+--------------------+-------------------------+\n",
      "|1  |Rochussenstraat     |true                     |\n",
      "|2  |Coolsingel          |true                     |\n",
      "|3  |%Witte de Withstraat|false                    |\n",
      "|4  |Lijnbaan            |true                     |\n",
      "|5  |NULL                |false                    |\n",
      "+---+--------------------+-------------------------+\n",
      "\n"
     ]
    }
   ],
   "source": [
    "df_tester.test(\n",
    "    col=\"street\",\n",
    "    test=valid_street_format,\n",
    "    nullable=False,  # nullable is False, hence null values are converted to False\n",
    "    description=\"Street is in valid Dutch street format.\",\n",
    ").show(truncate=False)"
   ]
  },
  {
   "cell_type": "markdown",
   "metadata": {},
   "source": [
    "**Run the `IntegerString` test on the _number_ column**\n",
    "\n",
    "By setting the `return_failed_rows` parameter to `True`, we can get only the rows that failed the test."
   ]
  },
  {
   "cell_type": "code",
   "execution_count": 8,
   "metadata": {},
   "outputs": [],
   "source": [
    "valid_string_length = ValidStringLength(\n",
    "    min_value=0,\n",
    "    max_value=10,\n",
    ")\n"
   ]
  },
  {
   "cell_type": "code",
   "execution_count": null,
   "metadata": {},
   "outputs": [
    {
     "name": "stdout",
     "output_type": "stream",
     "text": [
      "+---+--------------------+-------------------------+\n",
      "|id |street              |street__ValidStringLength|\n",
      "+---+--------------------+-------------------------+\n",
      "|1  |Rochussenstraat     |false                    |\n",
      "|2  |Coolsingel          |true                     |\n",
      "|3  |%Witte de Withstraat|false                    |\n",
      "|4  |Lijnbaan            |true                     |\n",
      "|5  |NULL                |false                    |\n",
      "+---+--------------------+-------------------------+\n",
      "\n"
     ]
    }
   ],
   "source": [
    "df_tester.test(\n",
    "    col=\"street\",\n",
    "    test=valid_string_length,\n",
    "    nullable=False,  # nullable is False, hence null values are converted to False\n",
    "    description=\"Street is in valid Dutch street format.\",\n",
    ").show(truncate=False)\n"
   ]
  },
  {
   "cell_type": "code",
   "execution_count": 8,
   "metadata": {},
   "outputs": [
    {
     "name": "stdout",
     "output_type": "stream",
     "text": [
      "+---+------------+-------------------------------+\n",
      "| id|house_number|house_number__ValidNumericRange|\n",
      "+---+------------+-------------------------------+\n",
      "|  4|          -3|                          false|\n",
      "+---+------------+-------------------------------+\n",
      "\n"
     ]
    }
   ],
   "source": [
    "df_tester.test(\n",
    "    col=\"house_number\",\n",
    "    test=ValidNumericRange(\n",
    "        min_value=1,\n",
    "    ),\n",
    "    nullable=False,\n",
    "    # description=\"House number is in a valid format\" # optional, let's not define it for illustration purposes\n",
    "    return_failed_rows=True,  # only return the failed rows\n",
    ").show()"
   ]
  },
  {
   "cell_type": "markdown",
   "metadata": {},
   "source": [
    "**Let's take a look at the test results of the DataFrame using the `.results` attribute.**"
   ]
  },
  {
   "cell_type": "code",
   "execution_count": 9,
   "metadata": {},
   "outputs": [
    {
     "name": "stdout",
     "output_type": "stream",
     "text": [
      "+---+-------------------------+-------------------------------+\n",
      "|id |street__ValidStreetFormat|house_number__ValidNumericRange|\n",
      "+---+-------------------------+-------------------------------+\n",
      "|1  |true                     |true                           |\n",
      "|2  |true                     |true                           |\n",
      "|3  |false                    |true                           |\n",
      "|4  |true                     |false                          |\n",
      "|5  |false                    |true                           |\n",
      "+---+-------------------------+-------------------------------+\n",
      "\n"
     ]
    }
   ],
   "source": [
    "df_tester.results.show(truncate=False)"
   ]
  },
  {
   "cell_type": "markdown",
   "metadata": {},
   "source": [
    "**We can use `.descriptions` or `.descriptions_df` to get the descriptions of the tests.**    \n",
    "\n",
    "<br>\n",
    "This can be useful for reporting purposes.   \n",
    "For example to create reports for the business with more detailed information than just the column name and the test name."
   ]
  },
  {
   "cell_type": "code",
   "execution_count": 10,
   "metadata": {},
   "outputs": [
    {
     "data": {
      "text/plain": [
       "{'street__ValidStreetFormat': 'Street is in valid Dutch street format.',\n",
       " 'house_number__ValidNumericRange': 'house_number__ValidNumericRange(min_value=1.0, max_value=inf)'}"
      ]
     },
     "execution_count": 10,
     "metadata": {},
     "output_type": "execute_result"
    }
   ],
   "source": [
    "df_tester.descriptions"
   ]
  },
  {
   "cell_type": "code",
   "execution_count": 11,
   "metadata": {},
   "outputs": [
    {
     "name": "stdout",
     "output_type": "stream",
     "text": [
      "+-------------------------------+-------------------------------------------------------------+\n",
      "|test                           |description                                                  |\n",
      "+-------------------------------+-------------------------------------------------------------+\n",
      "|street__ValidStreetFormat      |Street is in valid Dutch street format.                      |\n",
      "|house_number__ValidNumericRange|house_number__ValidNumericRange(min_value=1.0, max_value=inf)|\n",
      "+-------------------------------+-------------------------------------------------------------+\n",
      "\n"
     ]
    }
   ],
   "source": [
    "df_tester.description_df.show(truncate=False)"
   ]
  },
  {
   "cell_type": "markdown",
   "metadata": {},
   "source": [
    "### Custom tests\n",
    "\n",
    "Sometimes tests are too specific or complex to be covered by the configurable tests. That's why we can create custom tests and add them to the `DataFrameTester` object.  \n",
    "\n",
    "Let's do this using a custom test which should tests that every house has a bath room.  We'll start by creating a new DataFrame with rooms rather than houses."
   ]
  },
  {
   "cell_type": "code",
   "execution_count": 12,
   "metadata": {},
   "outputs": [
    {
     "name": "stdout",
     "output_type": "stream",
     "text": [
      "+---+--------+-----------+\n",
      "|id |house_id|room       |\n",
      "+---+--------+-----------+\n",
      "|1  |1       |living room|\n",
      "|2  |1       |bathroom   |\n",
      "|3  |1       |kitchen    |\n",
      "|4  |1       |bed room   |\n",
      "|5  |2       |living room|\n",
      "|6  |2       |bed room   |\n",
      "|7  |2       |kitchen    |\n",
      "+---+--------+-----------+\n",
      "\n"
     ]
    }
   ],
   "source": [
    "rooms = [\n",
    "    (1, 1, \"living room\"),\n",
    "    (2, 1, \"bathroom\"),\n",
    "    (3, 1, \"kitchen\"),\n",
    "    (4, 1, \"bed room\"),\n",
    "    (5, 2, \"living room\"),\n",
    "    (6, 2, \"bed room\"),\n",
    "    (7, 2, \"kitchen\"),\n",
    "]\n",
    "\n",
    "schema_rooms = StructType(\n",
    "    [\n",
    "        StructField(\"id\", IntegerType(), True),\n",
    "        StructField(\"house_id\", IntegerType(), True),\n",
    "        StructField(\"room\", StringType(), True),\n",
    "    ]\n",
    ")\n",
    "\n",
    "room_df = spark.createDataFrame(rooms, schema=schema_rooms)\n",
    "\n",
    "room_df.show(truncate=False)"
   ]
  },
  {
   "cell_type": "markdown",
   "metadata": {},
   "source": [
    "To create a custom test, we should create a pyspark DataFrame which contains the same primary_key column as the DataFrame to be tested using the `DataFrameTester`.  \n",
    "\n",
    "Let's create a boolean column that indicates whether the house has a bath room or not."
   ]
  },
  {
   "cell_type": "code",
   "execution_count": 13,
   "metadata": {},
   "outputs": [
    {
     "name": "stdout",
     "output_type": "stream",
     "text": [
      "+--------+------------+\n",
      "|house_id|has_bathroom|\n",
      "+--------+------------+\n",
      "|1       |true        |\n",
      "|2       |false       |\n",
      "+--------+------------+\n",
      "\n"
     ]
    }
   ],
   "source": [
    "house_has_bathroom = room_df.groupBy(\"house_id\").agg(\n",
    "    F.max(F.when(F.col(\"room\") == \"bathroom\", True).otherwise(False)).alias(\n",
    "        \"has_bathroom\"\n",
    "    )\n",
    ")\n",
    "\n",
    "house_has_bathroom.show(truncate=False)"
   ]
  },
  {
   "cell_type": "markdown",
   "metadata": {},
   "source": [
    "**We can add this 'custom test' to the `DataFrameTester` using `add_custom_test_result`.**\n",
    "\n",
    "In the background, all kinds of data validation checks are done by `DataFrameTester` to make sure that it fits the requirements to be added to the other test results.\n",
    "\n"
   ]
  },
  {
   "cell_type": "code",
   "execution_count": 14,
   "metadata": {},
   "outputs": [
    {
     "name": "stdout",
     "output_type": "stream",
     "text": [
      "+---+------------+\n",
      "|id |has_bathroom|\n",
      "+---+------------+\n",
      "|1  |true        |\n",
      "|2  |false       |\n",
      "|3  |null        |\n",
      "|4  |null        |\n",
      "|5  |null        |\n",
      "+---+------------+\n",
      "\n"
     ]
    }
   ],
   "source": [
    "df_tester.add_custom_test_result(\n",
    "    result=house_has_bathroom.withColumnRenamed(\"house_id\", \"id\"),\n",
    "    name=\"has_bathroom\",\n",
    "    description=\"House has a bathroom\",\n",
    "    # fillna_value=0, # optional; by default null.\n",
    ").show(truncate=False)"
   ]
  },
  {
   "cell_type": "markdown",
   "metadata": {},
   "source": [
    "**Despite that the data whether a house has a bath room is not available in the house DataFrame; we can still add the custom test to the `DataFrameTester` object.**"
   ]
  },
  {
   "cell_type": "code",
   "execution_count": 15,
   "metadata": {},
   "outputs": [
    {
     "name": "stdout",
     "output_type": "stream",
     "text": [
      "+---+-------------------------+-------------------------------+------------+\n",
      "|id |street__ValidStreetFormat|house_number__ValidNumericRange|has_bathroom|\n",
      "+---+-------------------------+-------------------------------+------------+\n",
      "|1  |true                     |true                           |true        |\n",
      "|2  |true                     |true                           |false       |\n",
      "|3  |false                    |true                           |null        |\n",
      "|4  |true                     |false                          |null        |\n",
      "|5  |false                    |true                           |null        |\n",
      "+---+-------------------------+-------------------------------+------------+\n",
      "\n"
     ]
    }
   ],
   "source": [
    "df_tester.results.show(truncate=False)"
   ]
  },
  {
   "cell_type": "code",
   "execution_count": 16,
   "metadata": {},
   "outputs": [
    {
     "data": {
      "text/plain": [
       "{'street__ValidStreetFormat': 'Street is in valid Dutch street format.',\n",
       " 'house_number__ValidNumericRange': 'house_number__ValidNumericRange(min_value=1.0, max_value=inf)',\n",
       " 'has_bathroom': 'House has a bathroom'}"
      ]
     },
     "execution_count": 16,
     "metadata": {},
     "output_type": "execute_result"
    }
   ],
   "source": [
    "df_tester.descriptions"
   ]
  },
  {
   "cell_type": "markdown",
   "metadata": {},
   "source": [
    "**We can also get a summary of the test results using the `.summary` attribute.**"
   ]
  },
  {
   "cell_type": "code",
   "execution_count": 17,
   "metadata": {},
   "outputs": [
    {
     "name": "stdout",
     "output_type": "stream",
     "text": [
      "+-------------------------------+-------------------------------------------------------------+-------+--------+-----------------+--------+-----------------+\n",
      "|test                           |description                                                  |n_tests|n_passed|percentage_passed|n_failed|percentage_failed|\n",
      "+-------------------------------+-------------------------------------------------------------+-------+--------+-----------------+--------+-----------------+\n",
      "|street__ValidStreetFormat      |Street is in valid Dutch street format.                      |5      |3       |60.0             |2       |40.0             |\n",
      "|house_number__ValidNumericRange|house_number__ValidNumericRange(min_value=1.0, max_value=inf)|5      |4       |80.0             |1       |20.0             |\n",
      "|has_bathroom                   |House has a bathroom                                         |2      |1       |50.0             |1       |50.0             |\n",
      "+-------------------------------+-------------------------------------------------------------+-------+--------+-----------------+--------+-----------------+\n",
      "\n"
     ]
    }
   ],
   "source": [
    "df_tester.summary.show(truncate=False)"
   ]
  },
  {
   "cell_type": "markdown",
   "metadata": {},
   "source": [
    "**If you want to see all rows that failed any of the tests, you can use the `.failed_tests` attribute.**"
   ]
  },
  {
   "cell_type": "code",
   "execution_count": 18,
   "metadata": {},
   "outputs": [
    {
     "name": "stdout",
     "output_type": "stream",
     "text": [
      "+---+-------------------------+-------------------------------+------------+\n",
      "|id |street__ValidStreetFormat|house_number__ValidNumericRange|has_bathroom|\n",
      "+---+-------------------------+-------------------------------+------------+\n",
      "|2  |true                     |true                           |false       |\n",
      "|3  |false                    |true                           |null        |\n",
      "|4  |true                     |false                          |null        |\n",
      "|5  |false                    |true                           |null        |\n",
      "+---+-------------------------+-------------------------------+------------+\n",
      "\n"
     ]
    }
   ],
   "source": [
    "df_tester.failed_tests.show(truncate=False)"
   ]
  },
  {
   "cell_type": "markdown",
   "metadata": {},
   "source": [
    "**Of course, you can also see all rows that passed all tests using the `.passed_tests` attribute.**"
   ]
  },
  {
   "cell_type": "code",
   "execution_count": 19,
   "metadata": {},
   "outputs": [
    {
     "name": "stdout",
     "output_type": "stream",
     "text": [
      "+---+-------------------------+-------------------------------+------------+\n",
      "|id |street__ValidStreetFormat|house_number__ValidNumericRange|has_bathroom|\n",
      "+---+-------------------------+-------------------------------+------------+\n",
      "|1  |true                     |true                           |true        |\n",
      "+---+-------------------------+-------------------------------+------------+\n",
      "\n"
     ]
    }
   ],
   "source": [
    "df_tester.passed_tests.show(truncate=False)"
   ]
  }
 ],
 "metadata": {
  "kernelspec": {
   "display_name": ".venv",
   "language": "python",
   "name": "python3"
  },
  "language_info": {
   "codemirror_mode": {
    "name": "ipython",
    "version": 3
   },
   "file_extension": ".py",
   "mimetype": "text/x-python",
   "name": "python",
   "nbconvert_exporter": "python",
   "pygments_lexer": "ipython3",
   "version": "3.10.11"
  }
 },
 "nbformat": 4,
 "nbformat_minor": 2
}
